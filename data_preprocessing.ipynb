{
  "nbformat": 4,
  "nbformat_minor": 0,
  "metadata": {
    "colab": {
      "provenance": []
    },
    "kernelspec": {
      "display_name": "Python 3",
      "name": "python3"
    },
    "language_info": {
      "name": "python"
    }
  },
  "cells": [
    {
      "cell_type": "code",
      "metadata": {
        "id": "OcdhVjDMs47u"
      },
      "source": [
        "import numpy as np\n",
        "import matplotlib.pyplot as plt\n",
        "from sklearn import datasets, preprocessing, feature_extraction\n",
        "from sklearn.decomposition import PCA\n",
        "import pandas as pd\n",
        "from sklearn.preprocessing import OneHotEncoder\n",
        "from sklearn.preprocessing import StandardScaler\n",
        "from sklearn.feature_selection import mutual_info_classif\n",
        "from sklearn.feature_selection import SelectKBest"
      ],
      "execution_count": null,
      "outputs": []
    },
    {
      "cell_type": "code",
      "metadata": {
        "id": "udYtFQjrs9vq"
      },
      "source": [
        "#Chargement de datasets\n",
        "features = [\"duration\",\"protocol_type\",\"service\",\"flag\",\"src_bytes\",\n",
        "    \"dst_bytes\",\"land\",\"wrong_fragment\",\"urgent\",\"hot\",\"num_failed_logins\",\n",
        "    \"logged_in\",\"num_compromised\",\"root_shell\",\"su_attempted\",\"num_root\",\n",
        "    \"num_file_creations\",\"num_shells\",\"num_access_files\",\"num_outbound_cmds\",\n",
        "    \"is_host_login\",\"is_guest_login\",\"count\",\"srv_count\",\"serror_rate\",\n",
        "    \"srv_serror_rate\",\"rerror_rate\",\"srv_rerror_rate\",\"same_srv_rate\",\n",
        "    \"diff_srv_rate\",\"srv_diff_host_rate\",\"dst_host_count\",\"dst_host_srv_count\",\n",
        "    \"dst_host_same_srv_rate\",\"dst_host_diff_srv_rate\",\"dst_host_same_src_port_rate\",\n",
        "    \"dst_host_srv_diff_host_rate\",\"dst_host_serror_rate\",\"dst_host_srv_serror_rate\",\n",
        "    \"dst_host_rerror_rate\",\"dst_host_srv_rerror_rate\",\"classification\",\"difficulty\"]# nom des variables\n",
        "\n",
        "train = pd.read_csv ('/content/drive/MyDrive/dataset/KDDTrain+.csv', header=None, names=features)#lecture dataset d'apprentissage\n",
        "test = pd.read_csv ('/content/drive/MyDrive/dataset/KDDTest+.csv', header=None, names=features)#lecture dataset de test\n",
        "train.drop(\"difficulty\", axis=1, inplace=True)\n",
        "test.drop(\"difficulty\", axis=1, inplace=True)"
      ],
      "execution_count": null,
      "outputs": []
    },
    {
      "cell_type": "code",
      "metadata": {
        "colab": {
          "base_uri": "https://localhost:8080/"
        },
        "id": "5YHirgSLsDeP",
        "outputId": "4e1af23f-2090-4296-bbec-e8c693ae8d2b"
      },
      "source": [
        "from google.colab import drive\n",
        "drive.mount('/content/drive')"
      ],
      "execution_count": null,
      "outputs": [
        {
          "output_type": "stream",
          "text": [
            "Drive already mounted at /content/drive; to attempt to forcibly remount, call drive.mount(\"/content/drive\", force_remount=True).\n"
          ],
          "name": "stdout"
        }
      ]
    },
    {
      "cell_type": "code",
      "metadata": {
        "id": "W_Qrwo4Gtz7K"
      },
      "source": [
        "# Remplacement de tous les différents noms d'attaque par leur type d'attaque\n",
        "#train dataset\n",
        "train.loc[(train['classification'] =='smurf')|(train['classification'] =='neptune') | (train['classification'] =='back') | (train['classification'] =='teardrop') |(train['classification'] =='pod')| (train['classification']=='land'),'classification'] = 'Dos'\n",
        "train.loc[(train['classification'] =='satan')|(train['classification'] =='ipsweep') | (train['classification'] =='portsweep') | (train['classification'] =='nmap'),'classification'] = 'probe'\n",
        "train.loc[(train['classification'] =='spy')|(train['classification'] =='phf')|(train['classification'] =='multihop')|(train['classification'] =='ftp_write') | (train['classification'] =='imap') | (train['classification'] =='warezmaster') |(train['classification'] =='guess_passwd')| (train['classification']=='warezclient'),'classification'] = 'r2l'\n",
        "train.loc[(train['classification'] =='buffer_overflow')|(train['classification'] =='rootkit') | (train['classification'] =='loadmodule') | (train['classification'] =='perl'),'classification']='u2r'\n",
        "train.loc[(train['classification'] =='normal'),'classification'] = 'normal'\n",
        "\n",
        "#test dataset\n",
        "test.loc[(test['classification'] =='smurf')|(test['classification'] =='neptune') | (test['classification'] =='back') | (test['classification'] =='teardrop') |(test['classification'] =='pod')| (test['classification']=='land')|(test['classification']=='apache2')|(test['classification']=='udpstorm')|(test['classification']=='processtable')|(test['classification']=='mailbomb'),'classification'] = 'Dos'\n",
        "test.loc[(test['classification'] =='guess_passwd')|(test['classification'] =='ftp_write')|(test['classification'] =='imap')|(test['classification'] =='phf') | (test['classification'] =='multihop') | (test['classification'] =='warezmaster') |(test['classification'] =='snmpgetattack')| (test['classification']=='named')|(test['classification'] =='xlock')|(test['classification'] =='xsnoop')|(test['classification'] =='sendmail')|(test['classification'] =='httptunnel')|(test['classification'] =='worm')|(test['classification'] =='snmpguess'),'classification'] = 'r2l'\n",
        "test.loc[(test['classification'] =='satan')|(test['classification'] =='ipsweep') | (test['classification'] =='portsweep') | (test['classification'] =='nmap') | (test['classification'] =='saint')|(test['classification'] =='mscan'),'classification'] = 'probe'\n",
        "test.loc[(test['classification'] =='buffer_overflow')|(test['classification'] =='rootkit') | (test['classification'] =='loadmodule') | (test['classification'] =='xterm')|(test['classification'] =='sqlattack')|(test['classification'] =='ps')|(test['classification'] =='perl'),'classification']='u2r'\n",
        "test.loc[(test['classification'] =='normal'),'classification'] = 'normal'"
      ],
      "execution_count": null,
      "outputs": []
    },
    {
      "cell_type": "code",
      "metadata": {
        "colab": {
          "base_uri": "https://localhost:8080/",
          "height": 422
        },
        "id": "zepK9RGLKOB3",
        "outputId": "fd6588ad-d54e-4c15-b4fd-9b43274bdc0a"
      },
      "source": [
        "print(\"-----------------amélioration du dataset --------------------\")\n",
        "\n",
        "df1 = pd.DataFrame()\n",
        "df2 = pd.DataFrame()\n",
        "for x in range(train.shape[0]):\n",
        "    if train.iloc[x].classification == \"u2r\":\n",
        "        df1 = df1.append(train.iloc[x])\n",
        "    if train.iloc[x].classification == \"r2l\":\n",
        "        df2 = df2.append(train.iloc[x])\n",
        "for i in range(150):\n",
        "  train = train.append(df1)\n",
        "for i in range(30):\n",
        "  train = train.append(df2)"
      ],
      "execution_count": null,
      "outputs": [
        {
          "output_type": "stream",
          "text": [
            "-----------------amélioration du dataset --------------------\n"
          ],
          "name": "stdout"
        },
        {
          "output_type": "error",
          "ename": "KeyboardInterrupt",
          "evalue": "ignored",
          "traceback": [
            "\u001b[0;31m---------------------------------------------------------------------------\u001b[0m",
            "\u001b[0;31mKeyboardInterrupt\u001b[0m                         Traceback (most recent call last)",
            "\u001b[0;32m<ipython-input-8-5a7889267ffc>\u001b[0m in \u001b[0;36m<module>\u001b[0;34m()\u001b[0m\n\u001b[1;32m      6\u001b[0m     \u001b[0;32mif\u001b[0m \u001b[0mtrain\u001b[0m\u001b[0;34m.\u001b[0m\u001b[0miloc\u001b[0m\u001b[0;34m[\u001b[0m\u001b[0mx\u001b[0m\u001b[0;34m]\u001b[0m\u001b[0;34m.\u001b[0m\u001b[0mclassification\u001b[0m \u001b[0;34m==\u001b[0m \u001b[0;34m\"u2r\"\u001b[0m\u001b[0;34m:\u001b[0m\u001b[0;34m\u001b[0m\u001b[0;34m\u001b[0m\u001b[0m\n\u001b[1;32m      7\u001b[0m         \u001b[0mdf1\u001b[0m \u001b[0;34m=\u001b[0m \u001b[0mdf1\u001b[0m\u001b[0;34m.\u001b[0m\u001b[0mappend\u001b[0m\u001b[0;34m(\u001b[0m\u001b[0mtrain\u001b[0m\u001b[0;34m.\u001b[0m\u001b[0miloc\u001b[0m\u001b[0;34m[\u001b[0m\u001b[0mx\u001b[0m\u001b[0;34m]\u001b[0m\u001b[0;34m)\u001b[0m\u001b[0;34m\u001b[0m\u001b[0;34m\u001b[0m\u001b[0m\n\u001b[0;32m----> 8\u001b[0;31m     \u001b[0;32mif\u001b[0m \u001b[0mtrain\u001b[0m\u001b[0;34m.\u001b[0m\u001b[0miloc\u001b[0m\u001b[0;34m[\u001b[0m\u001b[0mx\u001b[0m\u001b[0;34m]\u001b[0m\u001b[0;34m.\u001b[0m\u001b[0mclassification\u001b[0m \u001b[0;34m==\u001b[0m \u001b[0;34m\"r2l\"\u001b[0m\u001b[0;34m:\u001b[0m\u001b[0;34m\u001b[0m\u001b[0;34m\u001b[0m\u001b[0m\n\u001b[0m\u001b[1;32m      9\u001b[0m         \u001b[0mdf2\u001b[0m \u001b[0;34m=\u001b[0m \u001b[0mdf2\u001b[0m\u001b[0;34m.\u001b[0m\u001b[0mappend\u001b[0m\u001b[0;34m(\u001b[0m\u001b[0mtrain\u001b[0m\u001b[0;34m.\u001b[0m\u001b[0miloc\u001b[0m\u001b[0;34m[\u001b[0m\u001b[0mx\u001b[0m\u001b[0;34m]\u001b[0m\u001b[0;34m)\u001b[0m\u001b[0;34m\u001b[0m\u001b[0;34m\u001b[0m\u001b[0m\n\u001b[1;32m     10\u001b[0m \u001b[0;32mfor\u001b[0m \u001b[0mi\u001b[0m \u001b[0;32min\u001b[0m \u001b[0mrange\u001b[0m\u001b[0;34m(\u001b[0m\u001b[0;36m150\u001b[0m\u001b[0;34m)\u001b[0m\u001b[0;34m:\u001b[0m\u001b[0;34m\u001b[0m\u001b[0;34m\u001b[0m\u001b[0m\n",
            "\u001b[0;32m/usr/local/lib/python3.7/dist-packages/pandas/core/indexing.py\u001b[0m in \u001b[0;36m__getitem__\u001b[0;34m(self, key)\u001b[0m\n\u001b[1;32m    877\u001b[0m \u001b[0;34m\u001b[0m\u001b[0m\n\u001b[1;32m    878\u001b[0m             \u001b[0mmaybe_callable\u001b[0m \u001b[0;34m=\u001b[0m \u001b[0mcom\u001b[0m\u001b[0;34m.\u001b[0m\u001b[0mapply_if_callable\u001b[0m\u001b[0;34m(\u001b[0m\u001b[0mkey\u001b[0m\u001b[0;34m,\u001b[0m \u001b[0mself\u001b[0m\u001b[0;34m.\u001b[0m\u001b[0mobj\u001b[0m\u001b[0;34m)\u001b[0m\u001b[0;34m\u001b[0m\u001b[0;34m\u001b[0m\u001b[0m\n\u001b[0;32m--> 879\u001b[0;31m             \u001b[0;32mreturn\u001b[0m \u001b[0mself\u001b[0m\u001b[0;34m.\u001b[0m\u001b[0m_getitem_axis\u001b[0m\u001b[0;34m(\u001b[0m\u001b[0mmaybe_callable\u001b[0m\u001b[0;34m,\u001b[0m \u001b[0maxis\u001b[0m\u001b[0;34m=\u001b[0m\u001b[0maxis\u001b[0m\u001b[0;34m)\u001b[0m\u001b[0;34m\u001b[0m\u001b[0;34m\u001b[0m\u001b[0m\n\u001b[0m\u001b[1;32m    880\u001b[0m \u001b[0;34m\u001b[0m\u001b[0m\n\u001b[1;32m    881\u001b[0m     \u001b[0;32mdef\u001b[0m \u001b[0m_is_scalar_access\u001b[0m\u001b[0;34m(\u001b[0m\u001b[0mself\u001b[0m\u001b[0;34m,\u001b[0m \u001b[0mkey\u001b[0m\u001b[0;34m:\u001b[0m \u001b[0mTuple\u001b[0m\u001b[0;34m)\u001b[0m\u001b[0;34m:\u001b[0m\u001b[0;34m\u001b[0m\u001b[0;34m\u001b[0m\u001b[0m\n",
            "\u001b[0;32m/usr/local/lib/python3.7/dist-packages/pandas/core/indexing.py\u001b[0m in \u001b[0;36m_getitem_axis\u001b[0;34m(self, key, axis)\u001b[0m\n\u001b[1;32m   1496\u001b[0m             \u001b[0mself\u001b[0m\u001b[0;34m.\u001b[0m\u001b[0m_validate_integer\u001b[0m\u001b[0;34m(\u001b[0m\u001b[0mkey\u001b[0m\u001b[0;34m,\u001b[0m \u001b[0maxis\u001b[0m\u001b[0;34m)\u001b[0m\u001b[0;34m\u001b[0m\u001b[0;34m\u001b[0m\u001b[0m\n\u001b[1;32m   1497\u001b[0m \u001b[0;34m\u001b[0m\u001b[0m\n\u001b[0;32m-> 1498\u001b[0;31m             \u001b[0;32mreturn\u001b[0m \u001b[0mself\u001b[0m\u001b[0;34m.\u001b[0m\u001b[0mobj\u001b[0m\u001b[0;34m.\u001b[0m\u001b[0m_ixs\u001b[0m\u001b[0;34m(\u001b[0m\u001b[0mkey\u001b[0m\u001b[0;34m,\u001b[0m \u001b[0maxis\u001b[0m\u001b[0;34m=\u001b[0m\u001b[0maxis\u001b[0m\u001b[0;34m)\u001b[0m\u001b[0;34m\u001b[0m\u001b[0;34m\u001b[0m\u001b[0m\n\u001b[0m\u001b[1;32m   1499\u001b[0m \u001b[0;34m\u001b[0m\u001b[0m\n\u001b[1;32m   1500\u001b[0m     \u001b[0;32mdef\u001b[0m \u001b[0m_get_slice_axis\u001b[0m\u001b[0;34m(\u001b[0m\u001b[0mself\u001b[0m\u001b[0;34m,\u001b[0m \u001b[0mslice_obj\u001b[0m\u001b[0;34m:\u001b[0m \u001b[0mslice\u001b[0m\u001b[0;34m,\u001b[0m \u001b[0maxis\u001b[0m\u001b[0;34m:\u001b[0m \u001b[0mint\u001b[0m\u001b[0;34m)\u001b[0m\u001b[0;34m:\u001b[0m\u001b[0;34m\u001b[0m\u001b[0;34m\u001b[0m\u001b[0m\n",
            "\u001b[0;32m/usr/local/lib/python3.7/dist-packages/pandas/core/frame.py\u001b[0m in \u001b[0;36m_ixs\u001b[0;34m(self, i, axis)\u001b[0m\n\u001b[1;32m   2827\u001b[0m         \u001b[0;31m# irow\u001b[0m\u001b[0;34m\u001b[0m\u001b[0;34m\u001b[0m\u001b[0;34m\u001b[0m\u001b[0m\n\u001b[1;32m   2828\u001b[0m         \u001b[0;32mif\u001b[0m \u001b[0maxis\u001b[0m \u001b[0;34m==\u001b[0m \u001b[0;36m0\u001b[0m\u001b[0;34m:\u001b[0m\u001b[0;34m\u001b[0m\u001b[0;34m\u001b[0m\u001b[0m\n\u001b[0;32m-> 2829\u001b[0;31m             \u001b[0mnew_values\u001b[0m \u001b[0;34m=\u001b[0m \u001b[0mself\u001b[0m\u001b[0;34m.\u001b[0m\u001b[0m_mgr\u001b[0m\u001b[0;34m.\u001b[0m\u001b[0mfast_xs\u001b[0m\u001b[0;34m(\u001b[0m\u001b[0mi\u001b[0m\u001b[0;34m)\u001b[0m\u001b[0;34m\u001b[0m\u001b[0;34m\u001b[0m\u001b[0m\n\u001b[0m\u001b[1;32m   2830\u001b[0m \u001b[0;34m\u001b[0m\u001b[0m\n\u001b[1;32m   2831\u001b[0m             \u001b[0;31m# if we are a copy, mark as such\u001b[0m\u001b[0;34m\u001b[0m\u001b[0;34m\u001b[0m\u001b[0;34m\u001b[0m\u001b[0m\n",
            "\u001b[0;32m/usr/local/lib/python3.7/dist-packages/pandas/core/internals/managers.py\u001b[0m in \u001b[0;36mfast_xs\u001b[0;34m(self, loc)\u001b[0m\n\u001b[1;32m    948\u001b[0m             \u001b[0;32mreturn\u001b[0m \u001b[0mself\u001b[0m\u001b[0;34m.\u001b[0m\u001b[0mblocks\u001b[0m\u001b[0;34m[\u001b[0m\u001b[0;36m0\u001b[0m\u001b[0;34m]\u001b[0m\u001b[0;34m.\u001b[0m\u001b[0miget\u001b[0m\u001b[0;34m(\u001b[0m\u001b[0;34m(\u001b[0m\u001b[0mslice\u001b[0m\u001b[0;34m(\u001b[0m\u001b[0;32mNone\u001b[0m\u001b[0;34m)\u001b[0m\u001b[0;34m,\u001b[0m \u001b[0mloc\u001b[0m\u001b[0;34m)\u001b[0m\u001b[0;34m)\u001b[0m\u001b[0;34m\u001b[0m\u001b[0;34m\u001b[0m\u001b[0m\n\u001b[1;32m    949\u001b[0m \u001b[0;34m\u001b[0m\u001b[0m\n\u001b[0;32m--> 950\u001b[0;31m         \u001b[0mdtype\u001b[0m \u001b[0;34m=\u001b[0m \u001b[0m_interleaved_dtype\u001b[0m\u001b[0;34m(\u001b[0m\u001b[0mself\u001b[0m\u001b[0;34m.\u001b[0m\u001b[0mblocks\u001b[0m\u001b[0;34m)\u001b[0m\u001b[0;34m\u001b[0m\u001b[0;34m\u001b[0m\u001b[0m\n\u001b[0m\u001b[1;32m    951\u001b[0m \u001b[0;34m\u001b[0m\u001b[0m\n\u001b[1;32m    952\u001b[0m         \u001b[0mn\u001b[0m \u001b[0;34m=\u001b[0m \u001b[0mlen\u001b[0m\u001b[0;34m(\u001b[0m\u001b[0mself\u001b[0m\u001b[0;34m)\u001b[0m\u001b[0;34m\u001b[0m\u001b[0;34m\u001b[0m\u001b[0m\n",
            "\u001b[0;32m/usr/local/lib/python3.7/dist-packages/pandas/core/internals/managers.py\u001b[0m in \u001b[0;36m_interleaved_dtype\u001b[0;34m(blocks)\u001b[0m\n\u001b[1;32m   1893\u001b[0m         \u001b[0;32mreturn\u001b[0m \u001b[0;32mNone\u001b[0m\u001b[0;34m\u001b[0m\u001b[0;34m\u001b[0m\u001b[0m\n\u001b[1;32m   1894\u001b[0m \u001b[0;34m\u001b[0m\u001b[0m\n\u001b[0;32m-> 1895\u001b[0;31m     \u001b[0;32mreturn\u001b[0m \u001b[0mfind_common_type\u001b[0m\u001b[0;34m(\u001b[0m\u001b[0;34m[\u001b[0m\u001b[0mb\u001b[0m\u001b[0;34m.\u001b[0m\u001b[0mdtype\u001b[0m \u001b[0;32mfor\u001b[0m \u001b[0mb\u001b[0m \u001b[0;32min\u001b[0m \u001b[0mblocks\u001b[0m\u001b[0;34m]\u001b[0m\u001b[0;34m)\u001b[0m\u001b[0;34m\u001b[0m\u001b[0;34m\u001b[0m\u001b[0m\n\u001b[0m\u001b[1;32m   1896\u001b[0m \u001b[0;34m\u001b[0m\u001b[0m\n\u001b[1;32m   1897\u001b[0m \u001b[0;34m\u001b[0m\u001b[0m\n",
            "\u001b[0;32m/usr/local/lib/python3.7/dist-packages/pandas/core/dtypes/cast.py\u001b[0m in \u001b[0;36mfind_common_type\u001b[0;34m(types)\u001b[0m\n\u001b[1;32m   1498\u001b[0m                 \u001b[0;32mreturn\u001b[0m \u001b[0mobject\u001b[0m\u001b[0;34m\u001b[0m\u001b[0;34m\u001b[0m\u001b[0m\n\u001b[1;32m   1499\u001b[0m \u001b[0;34m\u001b[0m\u001b[0m\n\u001b[0;32m-> 1500\u001b[0;31m     \u001b[0;32mreturn\u001b[0m \u001b[0mnp\u001b[0m\u001b[0;34m.\u001b[0m\u001b[0mfind_common_type\u001b[0m\u001b[0;34m(\u001b[0m\u001b[0mtypes\u001b[0m\u001b[0;34m,\u001b[0m \u001b[0;34m[\u001b[0m\u001b[0;34m]\u001b[0m\u001b[0;34m)\u001b[0m\u001b[0;34m\u001b[0m\u001b[0;34m\u001b[0m\u001b[0m\n\u001b[0m\u001b[1;32m   1501\u001b[0m \u001b[0;34m\u001b[0m\u001b[0m\n\u001b[1;32m   1502\u001b[0m \u001b[0;34m\u001b[0m\u001b[0m\n",
            "\u001b[0;32m/usr/local/lib/python3.7/dist-packages/numpy/core/numerictypes.py\u001b[0m in \u001b[0;36mfind_common_type\u001b[0;34m(array_types, scalar_types)\u001b[0m\n\u001b[1;32m    622\u001b[0m     \u001b[0mscalar_types\u001b[0m \u001b[0;34m=\u001b[0m \u001b[0;34m[\u001b[0m\u001b[0mdtype\u001b[0m\u001b[0;34m(\u001b[0m\u001b[0mx\u001b[0m\u001b[0;34m)\u001b[0m \u001b[0;32mfor\u001b[0m \u001b[0mx\u001b[0m \u001b[0;32min\u001b[0m \u001b[0mscalar_types\u001b[0m\u001b[0;34m]\u001b[0m\u001b[0;34m\u001b[0m\u001b[0;34m\u001b[0m\u001b[0m\n\u001b[1;32m    623\u001b[0m \u001b[0;34m\u001b[0m\u001b[0m\n\u001b[0;32m--> 624\u001b[0;31m     \u001b[0mmaxa\u001b[0m \u001b[0;34m=\u001b[0m \u001b[0m_can_coerce_all\u001b[0m\u001b[0;34m(\u001b[0m\u001b[0marray_types\u001b[0m\u001b[0;34m)\u001b[0m\u001b[0;34m\u001b[0m\u001b[0;34m\u001b[0m\u001b[0m\n\u001b[0m\u001b[1;32m    625\u001b[0m     \u001b[0mmaxsc\u001b[0m \u001b[0;34m=\u001b[0m \u001b[0m_can_coerce_all\u001b[0m\u001b[0;34m(\u001b[0m\u001b[0mscalar_types\u001b[0m\u001b[0;34m)\u001b[0m\u001b[0;34m\u001b[0m\u001b[0;34m\u001b[0m\u001b[0m\n\u001b[1;32m    626\u001b[0m \u001b[0;34m\u001b[0m\u001b[0m\n",
            "\u001b[0;32m/usr/local/lib/python3.7/dist-packages/numpy/core/numerictypes.py\u001b[0m in \u001b[0;36m_can_coerce_all\u001b[0;34m(dtypelist, start)\u001b[0m\n\u001b[1;32m    552\u001b[0m     \u001b[0;32mwhile\u001b[0m \u001b[0mthisind\u001b[0m \u001b[0;34m<\u001b[0m \u001b[0m__len_test_types\u001b[0m\u001b[0;34m:\u001b[0m\u001b[0;34m\u001b[0m\u001b[0;34m\u001b[0m\u001b[0m\n\u001b[1;32m    553\u001b[0m         \u001b[0mnewdtype\u001b[0m \u001b[0;34m=\u001b[0m \u001b[0mdtype\u001b[0m\u001b[0;34m(\u001b[0m\u001b[0m__test_types\u001b[0m\u001b[0;34m[\u001b[0m\u001b[0mthisind\u001b[0m\u001b[0;34m]\u001b[0m\u001b[0;34m)\u001b[0m\u001b[0;34m\u001b[0m\u001b[0;34m\u001b[0m\u001b[0m\n\u001b[0;32m--> 554\u001b[0;31m         \u001b[0mnumcoerce\u001b[0m \u001b[0;34m=\u001b[0m \u001b[0mlen\u001b[0m\u001b[0;34m(\u001b[0m\u001b[0;34m[\u001b[0m\u001b[0mx\u001b[0m \u001b[0;32mfor\u001b[0m \u001b[0mx\u001b[0m \u001b[0;32min\u001b[0m \u001b[0mdtypelist\u001b[0m \u001b[0;32mif\u001b[0m \u001b[0mnewdtype\u001b[0m \u001b[0;34m>=\u001b[0m \u001b[0mx\u001b[0m\u001b[0;34m]\u001b[0m\u001b[0;34m)\u001b[0m\u001b[0;34m\u001b[0m\u001b[0;34m\u001b[0m\u001b[0m\n\u001b[0m\u001b[1;32m    555\u001b[0m         \u001b[0;32mif\u001b[0m \u001b[0mnumcoerce\u001b[0m \u001b[0;34m==\u001b[0m \u001b[0mN\u001b[0m\u001b[0;34m:\u001b[0m\u001b[0;34m\u001b[0m\u001b[0;34m\u001b[0m\u001b[0m\n\u001b[1;32m    556\u001b[0m             \u001b[0;32mreturn\u001b[0m \u001b[0mnewdtype\u001b[0m\u001b[0;34m\u001b[0m\u001b[0;34m\u001b[0m\u001b[0m\n",
            "\u001b[0;31mKeyboardInterrupt\u001b[0m: "
          ]
        }
      ]
    },
    {
      "cell_type": "code",
      "metadata": {
        "id": "mpn9QWNFt38Z"
      },
      "source": [
        "#section qui stock chaque valeur distinctes d'une colonne catégoriale dans une liste précedé par 'nomcolonne_'\n",
        "#train dataset\n",
        "colonnes_nouv_train = []# liste qui contient toute les nouvelles colonnes pour le dataset d'apprentissage\n",
        "\n",
        "protocol_distincts = sorted(train.protocol_type.unique())# obtenir les valeur distinctes de la colonnes protocol_type\n",
        "for e in protocol_distincts :#ajout dans la liste\n",
        "    colonnes_nouv_train = colonnes_nouv_train + [\"Protocole_type_\"+ e]\n",
        "\n",
        "service_distincts = sorted(train.service.unique())# obtenir les valeur distinctes de la colonnes service_type\n",
        "for e in service_distincts :#ajout dans la liste\n",
        "    colonnes_nouv_train = colonnes_nouv_train + [\"service_type_\"+ e]\n",
        "\n",
        "flag_distincts = sorted(train.flag.unique())# obtenir les valeur distinctes de la colonnes flag_type\n",
        "for e in flag_distincts :#ajout dans la liste\n",
        "    colonnes_nouv_train = colonnes_nouv_train + [\"flag_type_\"+ e]\n",
        "\n",
        "#test dataset\n",
        "\n",
        "colonnes_nouv_test = []# liste qui contient toute les nouvelles colonnes pour le dataset de test\n",
        "\n",
        "protocol_distincts = sorted(test.protocol_type.unique())# obtenir les valeur distinctes de la colonnes protocol_type\n",
        "for e in protocol_distincts :#ajout dans la liste\n",
        "    colonnes_nouv_test = colonnes_nouv_test + [\"Protocole_type_\"+ e]\n",
        "\n",
        "service_distincts = sorted(test.service.unique())# obtenir les valeur distinctes de la colonnes service_type\n",
        "for e in service_distincts :#ajout dans la liste\n",
        "    colonnes_nouv_test = colonnes_nouv_test + [\"service_type_\"+ e]\n",
        "\n",
        "flag_distincts = sorted(test.flag.unique())# obtenir les valeur distinctes de la colonnes flag_type\n",
        "for e in flag_distincts :#ajout dans la liste\n",
        "    colonnes_nouv_test = colonnes_nouv_test + [\"flag_type_\"+ e]\n",
        "\n",
        "\n",
        "# obtenir les colonnes catégoriales avec les valeurs d'origine\n",
        "train_colonnes_catégoriales = train[['protocol_type', 'service', 'flag']]\n",
        "test_colonnes_catégoriales = test[['protocol_type', 'service', 'flag']]\n"
      ],
      "execution_count": null,
      "outputs": []
    },
    {
      "cell_type": "code",
      "metadata": {
        "id": "4MwZCcTLt4jw"
      },
      "source": [
        "\"\"\"---------------------------------- One-Hot-Encoder ----------------------------------\"\"\"\n",
        "print(\"One-Hot-Encoder ...\")\n",
        "\n",
        "#transformation des données catégoriales vers des données numérique\n",
        "enc = OneHotEncoder()#instanciation\n",
        "train_Hot_Encoder = enc.fit_transform(train_colonnes_catégoriales)\n",
        "train_Hot_Encoder = pd.DataFrame(train_Hot_Encoder.toarray(), columns = colonnes_nouv_train)\n",
        "#refaire la meme chose pour le dataset de test\n",
        "test_Hot_Encoder = enc.fit_transform(test_colonnes_catégoriales)\n",
        "test_Hot_Encoder = pd.DataFrame(test_Hot_Encoder.toarray(), columns = colonnes_nouv_test)\n",
        "\n",
        "\n",
        "#nouveau dataset\n",
        "train_One_Hot_Encoder = train.join(train_Hot_Encoder)\n",
        "train_One_Hot_Encoder.drop('flag',axis=1, inplace=True)\n",
        "train_One_Hot_Encoder.drop('protocol_type',axis=1, inplace=True)\n",
        "train_One_Hot_Encoder.drop('service',axis=1, inplace=True)\n",
        "train_One_Hot_Encoder.to_csv(r\"/content/drive/MyDrive/dataset/new dataset/OneHotEncoder_train.csv\",index = False) #sauvgarder le fichier\n",
        "\n",
        "#refaire la meme chose pour le dataset du test\n",
        "test_One_Hot_Encoder = test.join(test_Hot_Encoder)\n",
        "test_One_Hot_Encoder.drop('flag',axis=1, inplace=True)\n",
        "test_One_Hot_Encoder.drop('protocol_type',axis=1, inplace=True)\n",
        "test_One_Hot_Encoder.drop('service',axis=1, inplace=True)\n",
        "#l'ajout des 6 colonnes manquantes dans le dataset de test\n",
        "service_train = train['service'].tolist()\n",
        "service_test = test['service'].tolist()\n",
        "diff = list(set(service_train) - set(service_test))\n",
        "for col in diff:\n",
        "    test_One_Hot_Encoder['service_'+col] = 0\n",
        "test_One_Hot_Encoder.to_csv(r\"/content/drive/MyDrive/dataset/new dataset/OneHotEncoder_test.csv\",index = False) #sauvgarder le fichier\n"
      ],
      "execution_count": null,
      "outputs": []
    },
    {
      "cell_type": "code",
      "metadata": {
        "id": "0c7dodj8t9t0"
      },
      "source": [
        "\"\"\"---------------------------------- Standardisation des données ----------------------------------\"\"\"\n",
        "print(\"Standardisation des données ...\")\n",
        "\n",
        "#diviser les données entre X et Y\n",
        "#train\n",
        "X_train = train_One_Hot_Encoder.drop('classification', 1)\n",
        "Y_train = train_One_Hot_Encoder.classification\n",
        "#test\n",
        "X_test = test_One_Hot_Encoder.drop('classification', 1)\n",
        "Y_test = test_One_Hot_Encoder.classification\n",
        "\n",
        "#StandardScaler\n",
        "#on doit sauvgarder la premiére colonne\n",
        "premiére_ligne_train = list(X_train)\n",
        "premiére_ligne_test = list(X_test)\n",
        "#train\n",
        "X_train = StandardScaler().fit_transform(X_train)\n",
        "X_train = pd.DataFrame(X_train)\n",
        "X_train.columns = premiére_ligne_train\n",
        "X_train.to_csv(r\"/content/drive/MyDrive/dataset/new dataset/duplicated/OneHotEncoder_scaled_train.csv\",index = False)\n",
        "Y_train.to_csv(r\"/content/drive/MyDrive/dataset/new dataset/duplicated/Y_train.csv\",index = False)\n",
        "\n",
        "#test\n",
        "X_test = StandardScaler().fit_transform(X_test)\n",
        "X_test = pd.DataFrame(X_test)\n",
        "X_test.columns = premiére_ligne_test\n",
        "\n",
        "X_test.to_csv(r\"/content/drive/MyDrive/dataset/new dataset/duplicated/OneHotEncoder_scaled_test.csv\",index = False)\n",
        "Y_test.to_csv(r\"/content/drive/MyDrive/dataset/new dataset/duplicated/Y_test.csv\",index = False)\n"
      ],
      "execution_count": null,
      "outputs": []
    },
    {
      "cell_type": "code",
      "metadata": {
        "id": "PuADwKmruAHf"
      },
      "source": [
        "\"\"\"---------------------------------- Selection des variables ---------------------------------\"\"\"\n",
        "\n",
        "#Feature Gain-Mutual Information\n",
        "#affichier le plot des variables selon l'algorithme mutual information gain\n",
        "print(\"Selection des variables ...\")\n",
        "feature_scores = mutual_info_classif(X_train,Y_train)\n",
        "feature_scores = pd.Series(feature_scores)\n",
        "feature_scores.index = premiére_ligne_train\n",
        "print(\"variables trié selon l'importance :\")\n",
        "print(feature_scores.sort_values(ascending = False))\n",
        "plt.figure(figsize = (30, 10))\n",
        "bar = feature_scores.sort_values(ascending = False).plot(kind=\"bar\")\n",
        "bar.set_title(\"l'information mutuelle entre les variables indépendantes et la variable dépendante\")\n",
        "bar.set_xlabel(\"Variables\")\n",
        "bar.set_ylabel(\"information mutuelle entre la varabie X et la variable 'classification'\")\n",
        "\n",
        "#séléctionner les N premiére variable\n",
        "selection = SelectKBest(mutual_info_classif, k=35)\n",
        "selection.fit(X_train,Y_train)\n",
        "\n",
        "print(\"les variables choisie par l'algorithme information gain :\")\n",
        "print(X_train.columns[selection.get_support()])\n",
        "\n"
      ],
      "execution_count": null,
      "outputs": []
    }
  ]
}